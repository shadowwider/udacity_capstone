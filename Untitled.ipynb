{
 "cells": [
  {
   "cell_type": "markdown",
   "metadata": {},
   "source": [
    "# 文本分类"
   ]
  },
  {
   "cell_type": "markdown",
   "metadata": {},
   "source": [
    "+ 解压缩文件，读取每个文件构建可以使用的训练集测试机\n",
    "+ 训练doc2vec构建模型\n",
    "+ 对每个文档运行doc2vec 转成向量\n",
    "+ 构建神经网络分类算法\n",
    "+ 训练分类，之后调参验证"
   ]
  },
  {
   "cell_type": "code",
   "execution_count": 2,
   "metadata": {
    "collapsed": false
   },
   "outputs": [
    {
     "name": "stdout",
     "output_type": "stream",
     "text": [
      "Found 20news Data\n"
     ]
    }
   ],
   "source": [
    "data_dir = './'\n",
    "\n",
    "\n",
    "\n",
    "import helper\n",
    "\n",
    "helper.download_extract(data_dir)"
   ]
  },
  {
   "cell_type": "code",
   "execution_count": 3,
   "metadata": {
    "collapsed": false
   },
   "outputs": [
    {
     "name": "stdout",
     "output_type": "stream",
     "text": [
      "ascii\n"
     ]
    },
    {
     "ename": "NameError",
     "evalue": "name 'sentences' is not defined",
     "output_type": "error",
     "traceback": [
      "\u001b[0;31m---------------------------------------------------------------------------\u001b[0m",
      "\u001b[0;31mNameError\u001b[0m                                 Traceback (most recent call last)",
      "\u001b[0;32m<ipython-input-3-aabecda03c00>\u001b[0m in \u001b[0;36m<module>\u001b[0;34m()\u001b[0m\n\u001b[1;32m      6\u001b[0m \u001b[1;33m\u001b[0m\u001b[0m\n\u001b[1;32m      7\u001b[0m \u001b[1;33m\u001b[0m\u001b[0m\n\u001b[0;32m----> 8\u001b[0;31m \u001b[1;32mprint\u001b[0m\u001b[1;33m(\u001b[0m\u001b[0msentences\u001b[0m\u001b[1;33m[\u001b[0m\u001b[1;34m'20news-bydate-train'\u001b[0m\u001b[1;33m]\u001b[0m\u001b[1;33m[\u001b[0m\u001b[1;33m:\u001b[0m\u001b[1;36m5\u001b[0m\u001b[1;33m]\u001b[0m\u001b[1;33m)\u001b[0m\u001b[1;33m\u001b[0m\u001b[0m\n\u001b[0m\u001b[1;32m      9\u001b[0m \u001b[1;32mprint\u001b[0m\u001b[1;33m(\u001b[0m\u001b[0msentences\u001b[0m\u001b[1;33m[\u001b[0m\u001b[1;34m'20news-bydate-test'\u001b[0m\u001b[1;33m]\u001b[0m\u001b[1;33m[\u001b[0m\u001b[1;33m:\u001b[0m\u001b[1;36m2\u001b[0m\u001b[1;33m]\u001b[0m\u001b[1;33m)\u001b[0m\u001b[1;33m\u001b[0m\u001b[0m\n",
      "\u001b[0;31mNameError\u001b[0m: name 'sentences' is not defined"
     ]
    }
   ],
   "source": [
    "import os\n",
    "import helper\n",
    "import sys\n",
    "print(sys.getdefaultencoding())\n",
    "sentences,collect = helper.read_file()\n",
    "\n",
    "print\n",
    "#print(sentences['20news-bydate-train'][:5])\n",
    "#print(sentences['20news-bydate-test'][:2])"
   ]
  },
  {
   "cell_type": "markdown",
   "metadata": {},
   "source": [
    "# Checkpoint 2"
   ]
  },
  {
   "cell_type": "markdown",
   "metadata": {},
   "source": [
    "从储存的文件中读取参数"
   ]
  },
  {
   "cell_type": "code",
   "execution_count": 4,
   "metadata": {
    "collapsed": false
   },
   "outputs": [
    {
     "name": "stdout",
     "output_type": "stream",
     "text": [
      "(' from sandvik newton apple com kent sandvik subject re davidians and compassion organization cookamunga tourist bureau lines two nine in article mlee post royalroads ca malcolm lee wrote do you judge all christians by the acts of those who would call themselves christian and yet are not the bd s contradicted scripture in their actions they were not christian simple as that perhaps you have read too much into what the media has portrayed ask any true believing christian and you will find that they will deny any association with the bd s even the seven th day adventists have denied any further ties with this cult which was what they were well if they were satanists or followers of an obscure religion then i would be sure that christians would in unison condemn and make this to a show case but when we are dealing with a fanatical revelation preacher that kills ultimately everyone including the innocent children then it seems that we are dealing with christians and christians note the spelling do you judge all muslims by the acts committed by saddam hussein a supposedly devout muslim i don t saddam is just a dictator using the religious beliefs of his people to further his own ends and does not this show the dangers with religion in order word a mind virus that will make mothers capable of letting their small children burn to ashes while they scream cheers kent sandvik newton apple com alink ksand private activities on the net', 'talk.religion.misc')\n",
      "(' from sandvik newton apple com kent sandvik subject re is it good that jesus died organization cookamunga tourist bureau lines two one in article arromdee jyusenkyou cs jhu edu ken arromdee wrote in article brian lpl arizona edu brian ceccarelli six zero two six two one nine six one five writes even though a new born is innocent as can be his sinful nature will surely manifest itself more explicity as he gets older ah so you admit newborns are innocent then you cannot say everyone is a sinner about the only way top get out of this one is to claim that a newborn is a sinner despite having not committed any sins which is rather odd this all would also implicate that in order for the sinning two month old baby to get forgivance he or she has to ask for help from jesus somehow i find this a little bit amuzing cheers kent sandvik newton apple com alink ksand private activities on the net', 'talk.religion.misc')\n"
     ]
    }
   ],
   "source": [
    "raw_data = helper.load_params()\n",
    "print raw_data['20news-bydate-train'][0]\n",
    "print raw_data['20news-bydate-test'][0]"
   ]
  },
  {
   "cell_type": "code",
   "execution_count": 6,
   "metadata": {
    "collapsed": false
   },
   "outputs": [
    {
     "name": "stdout",
     "output_type": "stream",
     "text": [
      "训练集共有新闻：11314\n",
      "测试集共有新闻：7532\n",
      "新闻总数：18846\n",
      " \n"
     ]
    }
   ],
   "source": [
    "#统计\n",
    "train_no = len(raw_data['20news-bydate-train'])\n",
    "test_no = len(raw_data['20news-bydate-test'])\n",
    "total_news = train_no + test_no\n",
    "print('训练集共有新闻：%s\\n测试集共有新闻：%s\\n新闻总数：%s\\n '%(train_no,test_no, total_news ))\n",
    "# 统计每一类\n",
    "train_type_no = []\n",
    "test_type_no = []\n",
    "for news in raw_data['20news-bydate-train']:\n",
    "    label_list = []    \n",
    "    if news[1] not in label_list:\n",
    "            label_list.append(news[1])\n",
    "        \n"
   ]
  },
  {
   "cell_type": "code",
   "execution_count": null,
   "metadata": {
    "collapsed": true
   },
   "outputs": [],
   "source": []
  }
 ],
 "metadata": {
  "anaconda-cloud": {},
  "kernelspec": {
   "display_name": "Python [conda root]",
   "language": "python",
   "name": "conda-root-py"
  },
  "language_info": {
   "codemirror_mode": {
    "name": "ipython",
    "version": 2
   },
   "file_extension": ".py",
   "mimetype": "text/x-python",
   "name": "python",
   "nbconvert_exporter": "python",
   "pygments_lexer": "ipython2",
   "version": "2.7.13"
  }
 },
 "nbformat": 4,
 "nbformat_minor": 1
}
